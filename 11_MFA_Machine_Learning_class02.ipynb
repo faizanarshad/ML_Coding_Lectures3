{
 "cells": [
  {
   "cell_type": "code",
   "execution_count": null,
   "metadata": {},
   "outputs": [],
   "source": []
  },
  {
   "cell_type": "markdown",
   "metadata": {},
   "source": [
    "# Machine Learning Lecture 2\n",
    "\n",
    "## **Start with shair**\n",
    "\n",
    "- her kisi ki zuban pa ak he naraaa haaa\n",
    "- mechine learning,machine learning,machine learning hamara ha"
   ]
  },
  {
   "cell_type": "markdown",
   "metadata": {},
   "source": [
    "### aye Mazak Ho raya ahhaa"
   ]
  },
  {
   "cell_type": "markdown",
   "metadata": {},
   "source": [
    "### trafic rules \n",
    "- ambeeer\n",
    "  "
   ]
  },
  {
   "cell_type": "markdown",
   "metadata": {},
   "source": [
    "## Machine Learning Types\n",
    "\n",
    "- Supervised\n",
    "- unsupervised\n",
    "- semi-supervised\n",
    "- reinforsement"
   ]
  },
  {
   "cell_type": "markdown",
   "metadata": {},
   "source": [
    "# supervised Learning\n",
    "\n",
    "- work under supervision\n",
    "- student teacher\n",
    "- prediction\n",
    "- outcome\n",
    "\n",
    "\n",
    "80% input data ----- training Model(20%)-----prediction-----output\n",
    "\n",
    "10 ka table ni ata\n",
    "\n",
    "### KAMOSHI\n",
    "\n",
    ">LOGISTIC REGRESSION\n",
    "\n",
    ">K-NEAREST NEIGHBOUR\n",
    "\n",
    ">SVM\n",
    "\n",
    ">NAIVE Bayes\n",
    "\n",
    ">decesion tree\n"
   ]
  },
  {
   "cell_type": "markdown",
   "metadata": {},
   "source": [
    "# unsupervised Learning\n",
    "\n",
    "- no supervision\n",
    "- no teacher\n",
    "- self learning\n",
    "- Find Patteren by its self"
   ]
  },
  {
   "cell_type": "markdown",
   "metadata": {},
   "source": [
    "#### **in Un-Supervised Learning no data just training predection and output**\n"
   ]
  },
  {
   "cell_type": "markdown",
   "metadata": {},
   "source": [
    "# semi supervised Learning \n",
    "- some labelled Data and some unlabbeled data\n",
    "- missing values"
   ]
  },
  {
   "cell_type": "markdown",
   "metadata": {},
   "source": [
    "# Reinforcement"
   ]
  },
  {
   "cell_type": "markdown",
   "metadata": {},
   "source": []
  },
  {
   "cell_type": "markdown",
   "metadata": {},
   "source": [
    "### hit and trail\n",
    "- tokaaaa\n",
    "- input data---------------training model and learning patterns of data------Predection ---- ooutput and report\n",
    "- footbal red card\n",
    "- sazaaa or jazaaaa\n",
    "- madel 1st position train your model\n",
    "- boost up the vedio\n",
    "- feed back and review\n",
    "- Waooooooooo factor"
   ]
  },
  {
   "cell_type": "markdown",
   "metadata": {},
   "source": [
    "### model-free reinforcement learning\n",
    "-policy optimization\n",
    "-Q-Learning\n",
    "### Model-Based Inforcement Learning\n",
    "-Learn the Model\n",
    "_Give the Model\n",
    "\n",
    "Countinious improvement in the entire work\n",
    "-countinious Learning\n",
    "\n"
   ]
  },
  {
   "cell_type": "markdown",
   "metadata": {},
   "source": [
    "# Assighnment \n",
    "\n",
    "- Explain the 4 methods which used in machine Learning\n",
    "- brief description"
   ]
  }
 ],
 "metadata": {
  "language_info": {
   "name": "python"
  },
  "orig_nbformat": 4
 },
 "nbformat": 4,
 "nbformat_minor": 2
}
