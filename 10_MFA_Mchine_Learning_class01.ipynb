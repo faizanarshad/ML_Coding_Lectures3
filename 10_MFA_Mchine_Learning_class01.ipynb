{
 "cells": [
  {
   "cell_type": "markdown",
   "metadata": {},
   "source": [
    "## **Machine Learning**\n",
    "- Yahoooo amaar baba lets come and join hands to start  \n",
    "- machine Learning with ammar is so much easy.\n",
    "- data scince ka jadu\n",
    "- chilla ka matlab ha sikhna\n",
    "- jadoo ho gaya\n",
    "- g ma yaqeen rakhta ho jado pa \n",
    "- wo jado jo machine learning ma kartha\n",
    "- ham isa sikha g ni iski poja kara g"
   ]
  },
  {
   "cell_type": "markdown",
   "metadata": {},
   "source": [
    "### pridiction is machine learning\n",
    "- predective modeling\n",
    "- barish ho g machine learnig ho g\n",
    "- base on the condition sun,air,shadow,cloud\n",
    "### nan tikki example based on the previous values\n",
    "- week days incom high off the days on weekend less sale\n",
    "- black friday sales\n",
    "- they are not sale\n",
    "- at the end profit in their pocket\n",
    "- chorio ki example\n",
    "- baba g kidar chal para oooooooo   eid is not coming\n",
    "### ak aur example \n",
    "- dress bridal dress,function dress,lawn ka suit\n",
    "- makhmalii party dress bride dress cost idea\n",
    "- peshavari chapal,khari,karandi,booski or vooooski\n",
    "- machine learning in our minds\n",
    "### ak our example\n",
    "- mama baba wali example\n",
    "- guest example\n",
    "- large data set\n",
    "- 3 input perameter and one out put\n",
    "- 5000 lines of data and predection\n",
    "- large data set yo need a sense to make some vizulization\n",
    "- house buildinng predection on the basis of culculations\n",
    "- google search exapmle\n",
    "### ak or example\n",
    "- image expression \n",
    "- mobile data with face id\n",
    "- "
   ]
  },
  {
   "cell_type": "markdown",
   "metadata": {},
   "source": [
    "### ak or example\n",
    "- location\n",
    "- ali baba\n",
    "- e bay\n",
    "- shoping ideas based on the location\n",
    "- watering cane\n",
    "- errigation pane\n",
    "- lootaaaaaa ohhhhhhhh\n",
    "- ya kia ha its normal not its not\n",
    "### disease detection \n",
    "- world predection on weight \n",
    "- kariiii ghost waoooooo yamyyyyyyyyyyy\n",
    "- sir food and food example minds divert towads the fodd\n",
    "## bio informative examples\n",
    "- MRI\n",
    "- Protein marker\n",
    "- selection of best nutrition\n",
    "- Robotics\n",
    "- car parking teeee teeeeee teeeee"
   ]
  },
  {
   "cell_type": "markdown",
   "metadata": {},
   "source": [
    "### machine Learning\n",
    "- faislabadi learning\n",
    "- waoooo khana wali example\n",
    "- mari marzi ka teacher\n",
    "- ammar baba g zinda bad\n",
    "- data science goool ka\n",
    "- 10 feb tak jura rahiyaaa g\n",
    "- 4 alfaz ma sikh sakta h\n",
    "- data driven decesion making baba g ka sath\n",
    "- 4 alfaz\n",
    "- "
   ]
  },
  {
   "cell_type": "markdown",
   "metadata": {},
   "source": [
    "### prediction\n",
    "- data then on that decision\n",
    "- faslabadi and jokes\n",
    "- sunooo g baba g ka joke\n",
    "- nan tikki ki example\n",
    "- not good desision\n",
    "-  9 rupee ki ufff\n",
    "-  too much costly\n",
    "-  goood joke\n",
    "-  data ---- training ---- model\n",
    "-  nan tikki\n",
    "-  fasion dress\n",
    "-  watch\n",
    "-  kachari bazar\n",
    "-  iphone\n",
    "-  "
   ]
  },
  {
   "cell_type": "markdown",
   "metadata": {},
   "source": [
    "## no data no machine Learning\n"
   ]
  },
  {
   "cell_type": "markdown",
   "metadata": {},
   "source": [
    "# Assighnment \n",
    "        - Type of machine Learning"
   ]
  }
 ],
 "metadata": {
  "language_info": {
   "name": "python"
  },
  "orig_nbformat": 4
 },
 "nbformat": 4,
 "nbformat_minor": 2
}
