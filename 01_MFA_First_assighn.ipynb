{
 "cells": [
  {
   "cell_type": "markdown",
   "metadata": {},
   "source": [
    "# Participants\n",
    "\n",
    "Title = \"Scholar\"\n",
    "\n",
    "Name = \"Muhammad Faizan Arshad\"\n",
    "\n",
    "Email = \"faizanarshad124@gmail.com\"\n",
    "\n",
    "Whatsapp = \"+923205501341\"\n"
   ]
  },
  {
   "cell_type": "markdown",
   "metadata": {},
   "source": [
    "### Start of the programme with Hello World\n",
    "> first programe with Ammar\n",
    "\n",
    "- \"Hello World\""
   ]
  },
  {
   "cell_type": "code",
   "execution_count": 6,
   "metadata": {},
   "outputs": [
    {
     "data": {
      "text/plain": [
       "('Hello World', 'MS', 'Lahore', 'Python_ka_chilla_with_Ammar')"
      ]
     },
     "execution_count": 6,
     "metadata": {},
     "output_type": "execute_result"
    }
   ],
   "source": [
    "name = \"Hello World\"\n",
    "Education = \"MS\"\n",
    "Location = \"Lahore\"\n",
    "Studies = \"Python_ka_chilla_with_Ammar\"\n",
    "name,Education,Location,Studies"
   ]
  },
  {
   "cell_type": "markdown",
   "metadata": {},
   "source": [
    "### Learn the veriable in python\n",
    "- Veriable are the most important in programming Language\n",
    "- but with Ammar_Baba nothing is impossible"
   ]
  },
  {
   "cell_type": "code",
   "execution_count": 7,
   "metadata": {},
   "outputs": [
    {
     "name": "stdout",
     "output_type": "stream",
     "text": [
      "11\n",
      "i am faizan\n",
      "10\n",
      "<class 'int'>\n",
      "11\n",
      "mango\n",
      "<class 'str'>\n"
     ]
    }
   ],
   "source": [
    "x= 5 # x is the veriable which is used as number 5\n",
    "y=6  # this the y veriable which value is 6\n",
    "z=x+y # z is the submisssion of both the veriable;\n",
    "print(z)\n",
    "print(\"i am faizan\")\n",
    "print(5+5)\n",
    "print(type(z))\n",
    "print(z)\n",
    "fruit_baskit = \"mango\"\n",
    "print(fruit_baskit)\n",
    "fruit_baskit\n",
    "print(type(fruit_baskit)) "
   ]
  },
  {
   "cell_type": "markdown",
   "metadata": {},
   "source": [
    "## Learn the Input Type in Python\n",
    "- take the veriable from user\n",
    "- after taking from user\n",
    "- print it out"
   ]
  },
  {
   "cell_type": "code",
   "execution_count": 8,
   "metadata": {},
   "outputs": [
    {
     "name": "stdout",
     "output_type": "stream",
     "text": [
      "hello my friend Faizan Arshad your age is  18\n"
     ]
    }
   ],
   "source": [
    "#fruit_baskit=input(\"what is your faveriout fruit= \")\n",
    "#print(fruit_baskit)\n",
    "\n",
    "#name=input(\"what is your name \" )\n",
    "greetings=\"hello my friend\"\n",
    "#print(greetings,)\n",
    "\n",
    "first_name=input(\"what is your first name \")\n",
    "second_name= input(\"Enter your second name \")\n",
    "age=input(\"enter your age = \")\n",
    "print(greetings,first_name,second_name,\"your age is \",age)\n"
   ]
  },
  {
   "cell_type": "markdown",
   "metadata": {},
   "source": [
    "### Lets learn the logical operats\n",
    "- in the logical operators we can use\n",
    "- greater then \n",
    "- less then\n",
    "- equal \n",
    "- greater then or equal to\n",
    "- less then or equal to"
   ]
  },
  {
   "cell_type": "code",
   "execution_count": 9,
   "metadata": {},
   "outputs": [
    {
     "name": "stdout",
     "output_type": "stream",
     "text": [
      "True\n",
      "True\n",
      "True\n"
     ]
    }
   ],
   "source": [
    "print(4==4)\n",
    "print(5<=6)\n",
    "print(6 < 7)\n"
   ]
  },
  {
   "cell_type": "markdown",
   "metadata": {},
   "source": [
    "## Type Conversion\n",
    "- main type of veriables are\n",
    "- int\n",
    "- float\n",
    "- string"
   ]
  },
  {
   "cell_type": "code",
   "execution_count": 10,
   "metadata": {},
   "outputs": [
    {
     "name": "stdout",
     "output_type": "stream",
     "text": [
      "<class 'float'>\n",
      "10.0\n",
      "<class 'int'>\n",
      "10\n",
      "10.5 <class 'float'>\n"
     ]
    }
   ],
   "source": [
    "x=10.0\n",
    "print(type(x))\n",
    "print(x)\n",
    "x = int(x)\n",
    "print(type(x))\n",
    "print(x)\n",
    "y = 10.5\n",
    "print(y, type(y))"
   ]
  },
  {
   "cell_type": "markdown",
   "metadata": {},
   "source": [
    "# input veriable \n",
    "- take the input from user\n",
    "- print it after culculation"
   ]
  },
  {
   "cell_type": "code",
   "execution_count": null,
   "metadata": {},
   "outputs": [],
   "source": [
    "#age = (input(\"enter your age \"))\n",
    "#age = type(float(age))\n",
    "#print(age)\n",
    "#eplecit change in the variable type\n",
    "10.5\n",
    "daily = input(\"enter your daily expenditures \")\n",
    "daily = float(daily)\n",
    "print(daily)\n",
    "#all the veriable will always be in type string\n",
    "time =  input(\"enter your time zone\")\n",
    "time = int(time)\n",
    "print(time)\n",
    "print(type(time))"
   ]
  },
  {
   "cell_type": "markdown",
   "metadata": {},
   "source": [
    "# Learn Graph Plotting\n",
    "- import the libraries\n",
    "- seaborn\n",
    "- matplot"
   ]
  },
  {
   "cell_type": "code",
   "execution_count": 11,
   "metadata": {},
   "outputs": [
    {
     "data": {
      "image/png": "[encoded data removed]",
      "text/plain": [
       "<Figure size 216x432 with 2 Axes>"
      ]
     },
     "metadata": {},
     "output_type": "display_data"
    }
   ],
   "source": [
    "import seaborn as sns\n",
    "import matplotlib.pyplot as plt\n",
    "sns.set_theme(style=\"ticks\", color_codes=True)\n",
    "titanic = sns.load_dataset(\"titanic\")\n",
    "g = sns.FacetGrid(titanic, row=\"sex\", hue=\"alone\")\n",
    "g = (g.map(plt.scatter, \"age\", \"fare\"))\n",
    "plt.show()"
   ]
  },
  {
   "cell_type": "code",
   "execution_count": null,
   "metadata": {},
   "outputs": [],
   "source": []
  }
 ],
 "metadata": {
  "interpreter": {
   "hash": "a7dedf4eff3048740122ebb4d2814c565cf9b2b6a4e4af8875eef51e631449d8"
  },
  "kernelspec": {
   "display_name": "Python 3.8.12 64-bit ('base': conda)",
   "language": "python",
   "name": "python3"
  },
  "language_info": {
   "codemirror_mode": {
    "name": "ipython",
    "version": 3
   },
   "file_extension": ".py",
   "mimetype": "text/x-python",
   "name": "python",
   "nbconvert_exporter": "python",
   "pygments_lexer": "ipython3",
   "version": "3.8.12"
  },
  "orig_nbformat": 4
 },
 "nbformat": 4,
 "nbformat_minor": 2
}
